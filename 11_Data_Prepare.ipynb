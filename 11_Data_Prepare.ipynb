{
 "cells": [
  {
   "cell_type": "markdown",
   "metadata": {},
   "source": [
    "### Please provide your own S3 bucket below. The name for your bucket must contain the prefix ‘deeplens’. In this example, the bucket is ‘deeplens-imageclassification’. Make Sure S3 bucket name is unique, e.g. deeplens-imageclassfication-name-date"
   ]
  },
  {
   "cell_type": "code",
   "execution_count": 1,
   "metadata": {},
   "outputs": [],
   "source": [
    "bucket='deeplens-imageclassification-matthew'"
   ]
  },
  {
   "cell_type": "code",
   "execution_count": 5,
   "metadata": {},
   "outputs": [],
   "source": [
    "def upload_to_s3(channel, file):\n",
    "    s3 = boto3.resource('s3')\n",
    "    data = open(file, \"rb\")\n",
    "    key = channel + '/' + file\n",
    "    s3.Bucket(bucket).put_object(Key=key, Body=data)"
   ]
  },
  {
   "cell_type": "code",
   "execution_count": 2,
   "metadata": {},
   "outputs": [],
   "source": [
    "!aws s3 cp s3://deeplens-imageclassification-matthew/data ./data --recursive"
   ]
  },
  {
   "cell_type": "code",
   "execution_count": 3,
   "metadata": {},
   "outputs": [
    {
     "name": "stdout",
     "output_type": "stream",
     "text": [
      "cat 0\r\n",
      "dog 1\r\n"
     ]
    }
   ],
   "source": [
    "# data/data表示生成的\".lst\"文件的保存路径和文件名前缀,比如data_train.lst和data_val.lst\n",
    "#data/train表示要处理图像所在路径\n",
    "#--list表示接下来的执行会生成.lst文件\n",
    "#--recursive表示迭代搜索图像路径\n",
    "#--train-ratio,表示数据化分比例,0.9表示将数据划分10份,训练集:验证集=9:1\n",
    "!python im2rec.py data/data data/train --list --recursive --train-ratio 0.9\n"
   ]
  },
  {
   "cell_type": "code",
   "execution_count": 4,
   "metadata": {},
   "outputs": [
    {
     "name": "stdout",
     "output_type": "stream",
     "text": [
      "Creating .rec file from /home/ec2-user/SageMaker/deeplens/data/data_train.lst in /home/ec2-user/SageMaker/deeplens/data\n",
      "time: 0.07648539543151855  count: 0\n",
      "time: 3.523789644241333  count: 1000\n",
      "time: 3.3782706260681152  count: 2000\n",
      "time: 2.662682056427002  count: 3000\n",
      "time: 2.8794918060302734  count: 4000\n",
      "time: 2.942836284637451  count: 5000\n",
      "time: 2.9851672649383545  count: 6000\n",
      "time: 5.00987434387207  count: 7000\n",
      "time: 3.1225271224975586  count: 8000\n",
      "time: 3.1663126945495605  count: 9000\n",
      "time: 3.1464602947235107  count: 10000\n",
      "time: 2.96248722076416  count: 11000\n",
      "time: 2.95965838432312  count: 12000\n",
      "time: 2.634810447692871  count: 13000\n",
      "time: 5.036537170410156  count: 14000\n",
      "time: 2.23531436920166  count: 15000\n",
      "time: 2.8745625019073486  count: 16000\n",
      "time: 3.0861454010009766  count: 17000\n",
      "time: 2.786839008331299  count: 18000\n",
      "time: 2.819965362548828  count: 19000\n",
      "time: 4.932088136672974  count: 20000\n",
      "time: 2.889134645462036  count: 21000\n",
      "time: 2.2618253231048584  count: 22000\n",
      "Creating .rec file from /home/ec2-user/SageMaker/deeplens/data/data_val.lst in /home/ec2-user/SageMaker/deeplens/data\n",
      "time: 0.014588117599487305  count: 0\n",
      "time: 3.363924503326416  count: 1000\n",
      "time: 3.236577033996582  count: 2000\n"
     ]
    }
   ],
   "source": [
    "#--num-thread 8 代表采用8线程来生成RecordIO文件\n",
    "#data/data_train.lst或data/data_val.lst表示要处理的.lst文件所在路径.\n",
    "#data/train表示图像所在路径\n",
    "!python im2rec.py --num-thread 32 data/data_train.lst data/train\n",
    "!python im2rec.py --num-thread 32 data/data_val.lst data/train"
   ]
  },
  {
   "cell_type": "code",
   "execution_count": null,
   "metadata": {},
   "outputs": [],
   "source": [
    "!mv data/data_train.rec ./\n",
    "!mv data/data_val.rec ./"
   ]
  },
  {
   "cell_type": "code",
   "execution_count": null,
   "metadata": {},
   "outputs": [],
   "source": [
    "upload_to_s3('kaggle/train', 'data_train.rec')\n"
   ]
  },
  {
   "cell_type": "code",
   "execution_count": 2,
   "metadata": {},
   "outputs": [
    {
     "name": "stdout",
     "output_type": "stream",
     "text": [
      "usage: im2rec.py [-h] [--list] [--exts EXTS [EXTS ...]] [--chunks CHUNKS]\r\n",
      "                 [--train-ratio TRAIN_RATIO] [--test-ratio TEST_RATIO]\r\n",
      "                 [--recursive] [--no-shuffle] [--pass-through]\r\n",
      "                 [--resize RESIZE] [--center-crop] [--quality QUALITY]\r\n",
      "                 [--num-thread NUM_THREAD] [--color {-1,0,1}]\r\n",
      "                 [--encoding {.jpg,.png}] [--pack-label]\r\n",
      "                 prefix root\r\n",
      "\r\n",
      "Create an image list or make a record database by reading from an image list\r\n",
      "\r\n",
      "positional arguments:\r\n",
      "  prefix                prefix of input/output lst and rec files.\r\n",
      "  root                  path to folder containing images.\r\n",
      "\r\n",
      "optional arguments:\r\n",
      "  -h, --help            show this help message and exit\r\n",
      "\r\n",
      "Options for creating image lists:\r\n",
      "  --list                If this is set im2rec will create image list(s) by\r\n",
      "                        traversing root folder and output to <prefix>.lst.\r\n",
      "                        Otherwise im2rec will read <prefix>.lst and create a\r\n",
      "                        database at <prefix>.rec (default: False)\r\n",
      "  --exts EXTS [EXTS ...]\r\n",
      "                        list of acceptable image extensions. (default:\r\n",
      "                        ['.jpeg', '.jpg', '.png'])\r\n",
      "  --chunks CHUNKS       number of chunks. (default: 1)\r\n",
      "  --train-ratio TRAIN_RATIO\r\n",
      "                        Ratio of images to use for training. (default: 1.0)\r\n",
      "  --test-ratio TEST_RATIO\r\n",
      "                        Ratio of images to use for testing. (default: 0)\r\n",
      "  --recursive           If true recursively walk through subdirs and assign an\r\n",
      "                        unique label to images in each folder. Otherwise only\r\n",
      "                        include images in the root folder and give them label\r\n",
      "                        0. (default: False)\r\n",
      "  --no-shuffle          If this is passed, im2rec will not randomize the image\r\n",
      "                        order in <prefix>.lst (default: True)\r\n",
      "\r\n",
      "Options for creating database:\r\n",
      "  --pass-through        whether to skip transformation and save image as is\r\n",
      "                        (default: False)\r\n",
      "  --resize RESIZE       resize the shorter edge of image to the newsize,\r\n",
      "                        original images will be packed by default. (default:\r\n",
      "                        0)\r\n",
      "  --center-crop         specify whether to crop the center image to make it\r\n",
      "                        rectangular. (default: False)\r\n",
      "  --quality QUALITY     JPEG quality for encoding, 1-100; or PNG compression\r\n",
      "                        for encoding, 1-9 (default: 95)\r\n",
      "  --num-thread NUM_THREAD\r\n",
      "                        number of thread to use for encoding. order of images\r\n",
      "                        will be different from the input list if >1. the input\r\n",
      "                        list will be modified to match the resulting order.\r\n",
      "                        (default: 1)\r\n",
      "  --color {-1,0,1}      specify the color mode of the loaded image. 1: Loads a\r\n",
      "                        color image. Any transparency of image will be\r\n",
      "                        neglected. It is the default flag. 0: Loads image in\r\n",
      "                        grayscale mode. -1:Loads image as such including alpha\r\n",
      "                        channel. (default: 1)\r\n",
      "  --encoding {.jpg,.png}\r\n",
      "                        specify the encoding of the images. (default: .jpg)\r\n",
      "  --pack-label          Whether to also pack multi dimensional label in the\r\n",
      "                        record file (default: False)\r\n"
     ]
    }
   ],
   "source": [
    "#test rec generating\n",
    "!python im2rec.py -h"
   ]
  },
  {
   "cell_type": "code",
   "execution_count": null,
   "metadata": {},
   "outputs": [],
   "source": []
  }
 ],
 "metadata": {
  "kernelspec": {
   "display_name": "conda_mxnet_p36",
   "language": "python",
   "name": "conda_mxnet_p36"
  },
  "language_info": {
   "codemirror_mode": {
    "name": "ipython",
    "version": 3
   },
   "file_extension": ".py",
   "mimetype": "text/x-python",
   "name": "python",
   "nbconvert_exporter": "python",
   "pygments_lexer": "ipython3",
   "version": "3.6.5"
  }
 },
 "nbformat": 4,
 "nbformat_minor": 2
}
