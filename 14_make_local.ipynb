{
 "cells": [
  {
   "cell_type": "markdown",
   "metadata": {},
   "source": [
    "# Doing inference with SageMaker Built-in Object Detection model\n",
    "\n",
    "1. [Download the trained model artifact](#download)\n",
    "1. [Convert training model to deployable model](#convert)\n",
    "1. [Inference](#inference)\n",
    "  1. [model load](#load)\n",
    "  1. [single image inference](#singleinference)\n",
    "  1. [batch inference](#batchinference)\n"
   ]
  },
  {
   "cell_type": "markdown",
   "metadata": {},
   "source": [
    "## setup\n",
    "### conda_mxnet_p36 is required kernel\n"
   ]
  },
  {
   "cell_type": "code",
   "execution_count": 1,
   "metadata": {},
   "outputs": [],
   "source": [
    "import numpy as np\n",
    "import mxnet as mx\n",
    "import json\n",
    "import boto3\n",
    "import cv2"
   ]
  },
  {
   "cell_type": "markdown",
   "metadata": {},
   "source": [
    "# Download the trained model artifact <a id='download'></a>\n",
    "\n",
    "The trained model parameters along with its network definition is stored in a tar.gz file in the output path for the training job. We need to download and unzip it to local disk:"
   ]
  },
  {
   "cell_type": "code",
   "execution_count": 2,
   "metadata": {},
   "outputs": [],
   "source": [
    "bucket='deeplens-imageclassification-matthew'\n",
    "endEpoch=60"
   ]
  },
  {
   "cell_type": "code",
   "execution_count": 3,
   "metadata": {},
   "outputs": [
    {
     "name": "stdout",
     "output_type": "stream",
     "text": [
      "DEMO-Matthew-kaggle-dog-cat-classification-2020-05-14-14-47-48\n"
     ]
    }
   ],
   "source": [
    "import pickle\n",
    "def load_obj(name ):\n",
    "    with open(name + '.pkl', 'rb') as f:\n",
    "        return pickle.load(f)\n",
    "training_params=load_obj(\"training_params_kaggle\")\n",
    "job_name=training_params[\"TrainingJobName\"]\n",
    "print(job_name)\n",
    "\n",
    "JOB_ID=job_name\n",
    "S3_OUTPUT_BUCKET =bucket"
   ]
  },
  {
   "cell_type": "code",
   "execution_count": 4,
   "metadata": {},
   "outputs": [
    {
     "data": {
      "text/plain": [
       "'s3://deeplens-imageclassification-matthew/DEMO-Matthew-kaggle-dog-cat-classification/output/DEMO-Matthew-kaggle-dog-cat-classification-2020-05-14-14-47-48/output/model.tar.gz'"
      ]
     },
     "execution_count": 4,
     "metadata": {},
     "output_type": "execute_result"
    }
   ],
   "source": [
    "sagemaker_client =  boto3.client('sagemaker')\n",
    "MODEL_ARTIFACT = sagemaker_client.describe_training_job(TrainingJobName=JOB_ID)['ModelArtifacts']['S3ModelArtifacts']\n",
    "MODEL_ARTIFACT"
   ]
  },
  {
   "cell_type": "code",
   "execution_count": 5,
   "metadata": {},
   "outputs": [],
   "source": [
    "import os \n",
    "\n",
    "def make_tmp_folder(folder_name):\n",
    "    try:\n",
    "        os.makedirs(folder_name)\n",
    "    except OSError as e:\n",
    "        print(\"{} folder already exists\".format(folder_name))"
   ]
  },
  {
   "cell_type": "code",
   "execution_count": 6,
   "metadata": {},
   "outputs": [
    {
     "name": "stdout",
     "output_type": "stream",
     "text": [
      "trained-model folder already exists\n",
      "download: s3://deeplens-imageclassification-matthew/DEMO-Matthew-kaggle-dog-cat-classification/output/DEMO-Matthew-kaggle-dog-cat-classification-2020-05-14-14-47-48/output/model.tar.gz to trained-model/model.tar.gz\n"
     ]
    }
   ],
   "source": [
    "TMP_FOLDER = 'trained-model'\n",
    "make_tmp_folder(TMP_FOLDER)\n",
    "\n",
    "!aws s3 cp $MODEL_ARTIFACT $TMP_FOLDER/."
   ]
  },
  {
   "cell_type": "markdown",
   "metadata": {},
   "source": [
    "Unzipping the model you will find three files in your directory:\n",
    "```\n",
    "model_algo_1-symbol.json   <-- neural network definition \n",
    "hyperparams.json           <-- hyper parameters  \n",
    "model_algo_1-0000.params   <-- trained weights for the neural network\n",
    "```"
   ]
  },
  {
   "cell_type": "code",
   "execution_count": 7,
   "metadata": {},
   "outputs": [
    {
     "name": "stdout",
     "output_type": "stream",
     "text": [
      "image-classification-0027.params\n",
      "image-classification-0006.params\n",
      "image-classification-0060.params\n",
      "image-classification-0015.params\n",
      "image-classification-0036.params\n",
      "image-classification-0012.params\n",
      "image-classification-0033.params\n",
      "image-classification-symbol.json\n",
      "image-classification-0018.params\n",
      "image-classification-0051.params\n",
      "image-classification-0054.params\n",
      "image-classification-0057.params\n",
      "image-classification-0039.params\n",
      "image-classification-0024.params\n",
      "image-classification-0009.params\n",
      "image-classification-0042.params\n",
      "image-classification-0048.params\n",
      "image-classification-0021.params\n",
      "image-classification-0045.params\n",
      "image-classification-0003.params\n",
      "model-shapes.json\n",
      "image-classification-0030.params\n"
     ]
    }
   ],
   "source": [
    "!tar -xvzf $TMP_FOLDER/model.tar.gz -C $TMP_FOLDER/"
   ]
  },
  {
   "cell_type": "markdown",
   "metadata": {},
   "source": [
    "When running this script, you need to make sure that command line options you pass in match exactly the hyperparameters of your training job. If you’re unsure, refer the hyperparams.json file in your unpacked model artifacts to confirm. "
   ]
  },
  {
   "cell_type": "code",
   "execution_count": 8,
   "metadata": {},
   "outputs": [
    {
     "name": "stdout",
     "output_type": "stream",
     "text": [
      "total 3.5G\r\n",
      "drwxrwxr-x 2 ec2-user ec2-user 4.0K May 16 08:03 .\r\n",
      "drwxrwxr-x 7 ec2-user ec2-user 4.0K May 16 08:02 ..\r\n",
      "-rw-r--r-- 1 ec2-user ec2-user  90M May 16 01:42 image-classification-0000.params\r\n",
      "-rw-r--r-- 1 ec2-user ec2-user  90M May 14 14:54 image-classification-0003.params\r\n",
      "-rw-r--r-- 1 ec2-user ec2-user  90M May 14 14:55 image-classification-0006.params\r\n",
      "-rw-r--r-- 1 ec2-user ec2-user  90M May 14 14:56 image-classification-0009.params\r\n",
      "-rw-r--r-- 1 ec2-user ec2-user  90M May 14 14:58 image-classification-0012.params\r\n",
      "-rw-r--r-- 1 ec2-user ec2-user  90M May 14 14:59 image-classification-0015.params\r\n",
      "-rw-r--r-- 1 ec2-user ec2-user  90M May 14 15:00 image-classification-0018.params\r\n",
      "-rw-r--r-- 1 ec2-user ec2-user  90M May 14 15:02 image-classification-0021.params\r\n",
      "-rw-r--r-- 1 ec2-user ec2-user  90M May 14 15:03 image-classification-0024.params\r\n",
      "-rw-r--r-- 1 ec2-user ec2-user  90M May 14 15:04 image-classification-0027.params\r\n",
      "-rw-r--r-- 1 ec2-user ec2-user  90M May 14 15:06 image-classification-0030.params\r\n",
      "-rw-r--r-- 1 ec2-user ec2-user  90M May 14 15:07 image-classification-0033.params\r\n",
      "-rw-r--r-- 1 ec2-user ec2-user  90M May 14 15:08 image-classification-0036.params\r\n",
      "-rw-r--r-- 1 ec2-user ec2-user  90M May 14 15:10 image-classification-0039.params\r\n",
      "-rw-r--r-- 1 ec2-user ec2-user  90M May 14 15:11 image-classification-0042.params\r\n",
      "-rw-r--r-- 1 ec2-user ec2-user  90M May 14 15:13 image-classification-0045.params\r\n",
      "-rw-r--r-- 1 ec2-user ec2-user  90M May 14 15:14 image-classification-0048.params\r\n",
      "-rw-r--r-- 1 ec2-user ec2-user  90M May 14 15:15 image-classification-0051.params\r\n",
      "-rw-r--r-- 1 ec2-user ec2-user  90M May 14 15:17 image-classification-0054.params\r\n",
      "-rw-r--r-- 1 ec2-user ec2-user  90M May 14 15:18 image-classification-0057.params\r\n",
      "-rw-r--r-- 1 ec2-user ec2-user  90M May 14 15:19 image-classification-0060.params\r\n",
      "-rw-r--r-- 1 ec2-user ec2-user 107K May 14 15:19 image-classification-symbol.json\r\n",
      "-rw-r--r-- 1 ec2-user ec2-user   46 May 14 14:52 model-shapes.json\r\n",
      "-rw-rw-r-- 1 ec2-user ec2-user 1.7G May 14 15:24 model.tar.gz\r\n"
     ]
    }
   ],
   "source": [
    "!ls -alh $TMP_FOLDER"
   ]
  },
  {
   "cell_type": "code",
   "execution_count": null,
   "metadata": {},
   "outputs": [],
   "source": []
  }
 ],
 "metadata": {
  "kernelspec": {
   "display_name": "conda_mxnet_p36",
   "language": "python",
   "name": "conda_mxnet_p36"
  },
  "language_info": {
   "codemirror_mode": {
    "name": "ipython",
    "version": 3
   },
   "file_extension": ".py",
   "mimetype": "text/x-python",
   "name": "python",
   "nbconvert_exporter": "python",
   "pygments_lexer": "ipython3",
   "version": "3.6.5"
  }
 },
 "nbformat": 4,
 "nbformat_minor": 1
}
