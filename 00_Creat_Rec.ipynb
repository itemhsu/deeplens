{
 "cells": [
  {
   "cell_type": "markdown",
   "metadata": {},
   "source": [
    "### Please provide your own S3 bucket below. The name for your bucket must contain the prefix ‘deeplens’. In this example, the bucket is ‘deeplens-imageclassification’. Make Sure S3 bucket name is unique, e.g. deeplens-imageclassfication-name-date"
   ]
  },
  {
   "cell_type": "code",
   "execution_count": 8,
   "metadata": {},
   "outputs": [],
   "source": [
    "bucket='deeplens-imageclassification-matthew'"
   ]
  },
  {
   "cell_type": "code",
   "execution_count": 9,
   "metadata": {},
   "outputs": [],
   "source": [
    "import boto3\n",
    "def upload_to_s3(channel, file):\n",
    "    s3 = boto3.resource('s3')\n",
    "    data = open(file, \"rb\")\n",
    "    key = channel + '/' + file\n",
    "    s3.Bucket(bucket).put_object(Key=key, Body=data)"
   ]
  },
  {
   "cell_type": "code",
   "execution_count": 10,
   "metadata": {},
   "outputs": [],
   "source": [
    "!aws s3 cp s3://deeplens-imageclassification-matthew/data ./data --recursive 2>&1 >/dev/null"
   ]
  },
  {
   "cell_type": "code",
   "execution_count": 11,
   "metadata": {},
   "outputs": [
    {
     "name": "stdout",
     "output_type": "stream",
     "text": [
      "cat 0\r\n",
      "dog 1\r\n"
     ]
    }
   ],
   "source": [
    "# data/data表示生成的\".lst\"文件的保存路径和文件名前缀,比如data_train.lst和data_val.lst\n",
    "#data/train表示要处理图像所在路径\n",
    "#--list表示接下来的执行会生成.lst文件\n",
    "#--recursive表示迭代搜索图像路径\n",
    "#--train-ratio,表示数据化分比例,0.9表示将数据划分10份,训练集:验证集=9:1\n",
    "!python im2rec.py data/data data/train --list --recursive --train-ratio 0.9\n"
   ]
  },
  {
   "cell_type": "code",
   "execution_count": 12,
   "metadata": {},
   "outputs": [
    {
     "name": "stdout",
     "output_type": "stream",
     "text": [
      "Creating .rec file from /home/ec2-user/SageMaker/deeplens/data/data_train.lst in /home/ec2-user/SageMaker/deeplens/data\n",
      "time: 0.007991552352905273  count: 0\n",
      "time: 3.4721813201904297  count: 1000\n",
      "time: 3.165229320526123  count: 2000\n",
      "time: 2.78024959564209  count: 3000\n",
      "time: 2.7607452869415283  count: 4000\n",
      "time: 2.804717779159546  count: 5000\n",
      "time: 2.948654890060425  count: 6000\n",
      "time: 3.0583536624908447  count: 7000\n",
      "time: 2.8311243057250977  count: 8000\n",
      "time: 3.006575584411621  count: 9000\n",
      "time: 2.744615316390991  count: 10000\n",
      "time: 2.7816624641418457  count: 11000\n",
      "time: 3.0412440299987793  count: 12000\n",
      "time: 3.321824073791504  count: 13000\n",
      "time: 2.7751660346984863  count: 14000\n",
      "time: 2.3670053482055664  count: 15000\n",
      "time: 2.630366325378418  count: 16000\n",
      "time: 3.0670201778411865  count: 17000\n",
      "time: 3.175652265548706  count: 18000\n",
      "time: 2.566887140274048  count: 19000\n",
      "time: 2.7354094982147217  count: 20000\n",
      "time: 2.946131944656372  count: 21000\n",
      "time: 2.324791193008423  count: 22000\n",
      "Creating .rec file from /home/ec2-user/SageMaker/deeplens/data/data_val.lst in /home/ec2-user/SageMaker/deeplens/data\n",
      "time: 0.029967308044433594  count: 0\n",
      "time: 3.1200544834136963  count: 1000\n",
      "time: 3.1818060874938965  count: 2000\n"
     ]
    }
   ],
   "source": [
    "#--num-thread 32 代表采用32线程来生成RecordIO文件\n",
    "#data/data_train.lst或data/data_val.lst表示要处理的.lst文件所在路径.\n",
    "#data/train表示图像所在路径\n",
    "!python im2rec.py --num-thread 32 data/data_train.lst data/train\n",
    "!python im2rec.py --num-thread 32 data/data_val.lst data/train"
   ]
  },
  {
   "cell_type": "code",
   "execution_count": 13,
   "metadata": {},
   "outputs": [],
   "source": [
    "!mv data/data_train.rec ./\n",
    "!mv data/data_val.rec ./"
   ]
  },
  {
   "cell_type": "code",
   "execution_count": null,
   "metadata": {},
   "outputs": [],
   "source": []
  }
 ],
 "metadata": {
  "kernelspec": {
   "display_name": "conda_mxnet_p36",
   "language": "python",
   "name": "conda_mxnet_p36"
  },
  "language_info": {
   "codemirror_mode": {
    "name": "ipython",
    "version": 3
   },
   "file_extension": ".py",
   "mimetype": "text/x-python",
   "name": "python",
   "nbconvert_exporter": "python",
   "pygments_lexer": "ipython3",
   "version": "3.6.5"
  }
 },
 "nbformat": 4,
 "nbformat_minor": 2
}
