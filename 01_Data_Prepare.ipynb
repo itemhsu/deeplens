{
 "cells": [
  {
   "cell_type": "markdown",
   "metadata": {},
   "source": [
    "### Please provide your own S3 bucket below. The name for your bucket must contain the prefix ‘deeplens’. In this example, the bucket is ‘deeplens-imageclassification’. Make Sure S3 bucket name is unique, e.g. deeplens-imageclassfication-name-date"
   ]
  },
  {
   "cell_type": "code",
   "execution_count": 1,
   "metadata": {},
   "outputs": [],
   "source": [
    "bucket='deeplens-imageclassification-matthew'"
   ]
  },
  {
   "cell_type": "code",
   "execution_count": 2,
   "metadata": {},
   "outputs": [],
   "source": [
    "import os \n",
    "import urllib.request\n",
    "import boto3"
   ]
  },
  {
   "cell_type": "code",
   "execution_count": 3,
   "metadata": {},
   "outputs": [],
   "source": [
    "def download(url):\n",
    "    filename = url.split(\"/\")[-1]\n",
    "    if not os.path.exists(filename):\n",
    "        urllib.request.urlretrieve(url, filename)"
   ]
  },
  {
   "cell_type": "code",
   "execution_count": 4,
   "metadata": {},
   "outputs": [],
   "source": [
    "def upload_to_s3(channel, file):\n",
    "    s3 = boto3.resource('s3')\n",
    "    data = open(file, \"rb\")\n",
    "    key = channel + '/' + file\n",
    "    s3.Bucket(bucket).put_object(Key=key, Body=data)"
   ]
  },
  {
   "cell_type": "code",
   "execution_count": 5,
   "metadata": {},
   "outputs": [
    {
     "name": "stdout",
     "output_type": "stream",
     "text": [
      "delete: s3://deeplens-imageclassification-matthew/train/data_train.rec\n",
      "delete: s3://deeplens-imageclassification-matthew/validation/data_val.rec\n"
     ]
    }
   ],
   "source": [
    "#clear current rec files\n",
    "clearedTrain=\"s3://{}/train\".format(bucket)\n",
    "clearedValidation=\"s3://{}/validation\".format(bucket)\n",
    "!aws s3 rm  $clearedTrain --recursive \n",
    "!aws s3 rm  $clearedValidation --recursive "
   ]
  },
  {
   "cell_type": "code",
   "execution_count": 9,
   "metadata": {},
   "outputs": [],
   "source": [
    "# caltech-256\n",
    "caltech=False\n",
    "if caltech:\n",
    "    download('http://data.mxnet.io/data/caltech-256/caltech-256-60-train.rec')\n",
    "    upload_to_s3('train', 'caltech-256-60-train.rec')\n",
    "    download('http://data.mxnet.io/data/caltech-256/caltech-256-60-val.rec')\n",
    "    upload_to_s3('validation', 'caltech-256-60-val.rec')\n",
    "else:\n",
    "    download('http://www.mipcam.com/data/data_train.rec')\n",
    "    upload_to_s3('train', 'data_train.rec')\n",
    "    download('http://www.mipcam.com/data/data_val.rec')\n",
    "    upload_to_s3('validation', 'data_val.rec')\n"
   ]
  },
  {
   "cell_type": "code",
   "execution_count": 10,
   "metadata": {},
   "outputs": [
    {
     "name": "stdout",
     "output_type": "stream",
     "text": [
      "--2020-08-13 08:15:26--  http://www.mipcam.com/data/data_train.rec\n",
      "Resolving www.mipcam.com (www.mipcam.com)... 104.236.138.135\n",
      "Connecting to www.mipcam.com (www.mipcam.com)|104.236.138.135|:80... connected.\n",
      "HTTP request sent, awaiting response... 200 OK\n",
      "Length: 1018967544 (972M)\n",
      "Saving to: ‘data_train.rec.1’\n",
      "\n",
      "data_train.rec.1    100%[===================>] 971.76M  20.6MB/s    in 49s     \n",
      "\n",
      "2020-08-13 08:16:15 (20.0 MB/s) - ‘data_train.rec.1’ saved [1018967544/1018967544]\n",
      "\n"
     ]
    }
   ],
   "source": [
    "!wget http://www.mipcam.com/data/data_train.rec"
   ]
  },
  {
   "cell_type": "code",
   "execution_count": null,
   "metadata": {},
   "outputs": [],
   "source": [
    "!wget http://www.mipcam.com/data/data_va.rec"
   ]
  }
 ],
 "metadata": {
  "kernelspec": {
   "display_name": "conda_mxnet_p36",
   "language": "python",
   "name": "conda_mxnet_p36"
  },
  "language_info": {
   "codemirror_mode": {
    "name": "ipython",
    "version": 3
   },
   "file_extension": ".py",
   "mimetype": "text/x-python",
   "name": "python",
   "nbconvert_exporter": "python",
   "pygments_lexer": "ipython3",
   "version": "3.6.10"
  }
 },
 "nbformat": 4,
 "nbformat_minor": 2
}
