{
 "cells": [
  {
   "cell_type": "markdown",
   "metadata": {},
   "source": [
    "### Please provide your own S3 bucket below. The name for your bucket must contain the prefix ‘deeplens’. In this example, the bucket is ‘deeplens-imageclassification’. Make Sure S3 bucket name is unique, e.g. deeplens-imageclassfication-name-date"
   ]
  },
  {
   "cell_type": "code",
   "execution_count": 1,
   "metadata": {},
   "outputs": [],
   "source": [
    "bucket='deeplens-imageclassification-matthew'"
   ]
  },
  {
   "cell_type": "code",
   "execution_count": 2,
   "metadata": {},
   "outputs": [],
   "source": [
    "import os \n",
    "import urllib.request\n",
    "import boto3"
   ]
  },
  {
   "cell_type": "code",
   "execution_count": 3,
   "metadata": {},
   "outputs": [],
   "source": [
    "def download(url):\n",
    "    filename = url.split(\"/\")[-1]\n",
    "    if not os.path.exists(filename):\n",
    "        urllib.request.urlretrieve(url, filename)"
   ]
  },
  {
   "cell_type": "code",
   "execution_count": 4,
   "metadata": {},
   "outputs": [],
   "source": [
    "def upload_to_s3(channel, file):\n",
    "    s3 = boto3.resource('s3')\n",
    "    data = open(file, \"rb\")\n",
    "    key = channel + '/' + file\n",
    "    s3.Bucket(bucket).put_object(Key=key, Body=data)"
   ]
  },
  {
   "cell_type": "code",
   "execution_count": 5,
   "metadata": {},
   "outputs": [],
   "source": [
    "# caltech-256\n",
    "download('http://data.mxnet.io/data/caltech-256/caltech-256-60-train.rec')\n",
    "upload_to_s3('train', 'caltech-256-60-train.rec')\n",
    "download('http://data.mxnet.io/data/caltech-256/caltech-256-60-val.rec')\n",
    "upload_to_s3('validation', 'caltech-256-60-val.rec')"
   ]
  },
  {
   "cell_type": "code",
   "execution_count": 6,
   "metadata": {},
   "outputs": [
    {
     "name": "stdout",
     "output_type": "stream",
     "text": [
      "usage: im2rec.py [-h] [--list] [--exts EXTS [EXTS ...]] [--chunks CHUNKS]\r\n",
      "                 [--train-ratio TRAIN_RATIO] [--test-ratio TEST_RATIO]\r\n",
      "                 [--recursive] [--no-shuffle] [--pass-through]\r\n",
      "                 [--resize RESIZE] [--center-crop] [--quality QUALITY]\r\n",
      "                 [--num-thread NUM_THREAD] [--color {-1,0,1}]\r\n",
      "                 [--encoding {.jpg,.png}] [--pack-label]\r\n",
      "                 prefix root\r\n",
      "\r\n",
      "Create an image list or make a record database by reading from an image list\r\n",
      "\r\n",
      "positional arguments:\r\n",
      "  prefix                prefix of input/output lst and rec files.\r\n",
      "  root                  path to folder containing images.\r\n",
      "\r\n",
      "optional arguments:\r\n",
      "  -h, --help            show this help message and exit\r\n",
      "\r\n",
      "Options for creating image lists:\r\n",
      "  --list                If this is set im2rec will create image list(s) by\r\n",
      "                        traversing root folder and output to <prefix>.lst.\r\n",
      "                        Otherwise im2rec will read <prefix>.lst and create a\r\n",
      "                        database at <prefix>.rec (default: False)\r\n",
      "  --exts EXTS [EXTS ...]\r\n",
      "                        list of acceptable image extensions. (default:\r\n",
      "                        ['.jpeg', '.jpg', '.png'])\r\n",
      "  --chunks CHUNKS       number of chunks. (default: 1)\r\n",
      "  --train-ratio TRAIN_RATIO\r\n",
      "                        Ratio of images to use for training. (default: 1.0)\r\n",
      "  --test-ratio TEST_RATIO\r\n",
      "                        Ratio of images to use for testing. (default: 0)\r\n",
      "  --recursive           If true recursively walk through subdirs and assign an\r\n",
      "                        unique label to images in each folder. Otherwise only\r\n",
      "                        include images in the root folder and give them label\r\n",
      "                        0. (default: False)\r\n",
      "  --no-shuffle          If this is passed, im2rec will not randomize the image\r\n",
      "                        order in <prefix>.lst (default: True)\r\n",
      "\r\n",
      "Options for creating database:\r\n",
      "  --pass-through        whether to skip transformation and save image as is\r\n",
      "                        (default: False)\r\n",
      "  --resize RESIZE       resize the shorter edge of image to the newsize,\r\n",
      "                        original images will be packed by default. (default:\r\n",
      "                        0)\r\n",
      "  --center-crop         specify whether to crop the center image to make it\r\n",
      "                        rectangular. (default: False)\r\n",
      "  --quality QUALITY     JPEG quality for encoding, 1-100; or PNG compression\r\n",
      "                        for encoding, 1-9 (default: 95)\r\n",
      "  --num-thread NUM_THREAD\r\n",
      "                        number of thread to use for encoding. order of images\r\n",
      "                        will be different from the input list if >1. the input\r\n",
      "                        list will be modified to match the resulting order.\r\n",
      "                        (default: 1)\r\n",
      "  --color {-1,0,1}      specify the color mode of the loaded image. 1: Loads a\r\n",
      "                        color image. Any transparency of image will be\r\n",
      "                        neglected. It is the default flag. 0: Loads image in\r\n",
      "                        grayscale mode. -1:Loads image as such including alpha\r\n",
      "                        channel. (default: 1)\r\n",
      "  --encoding {.jpg,.png}\r\n",
      "                        specify the encoding of the images. (default: .jpg)\r\n",
      "  --pack-label          Whether to also pack multi dimensional label in the\r\n",
      "                        record file (default: False)\r\n"
     ]
    }
   ],
   "source": [
    "#test rec generating\n",
    "!python im2rec.py -h"
   ]
  },
  {
   "cell_type": "code",
   "execution_count": null,
   "metadata": {},
   "outputs": [],
   "source": []
  }
 ],
 "metadata": {
  "kernelspec": {
   "display_name": "conda_mxnet_p36",
   "language": "python",
   "name": "conda_mxnet_p36"
  },
  "language_info": {
   "codemirror_mode": {
    "name": "ipython",
    "version": 3
   },
   "file_extension": ".py",
   "mimetype": "text/x-python",
   "name": "python",
   "nbconvert_exporter": "python",
   "pygments_lexer": "ipython3",
   "version": "3.6.5"
  }
 },
 "nbformat": 4,
 "nbformat_minor": 2
}
